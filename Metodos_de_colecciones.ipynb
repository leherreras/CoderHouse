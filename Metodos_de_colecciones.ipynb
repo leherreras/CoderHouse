{
 "cells": [
  {
   "cell_type": "code",
   "execution_count": 4,
   "id": "f2070a3a",
   "metadata": {},
   "outputs": [],
   "source": [
    "texto = \"gordon lanzó su curva&strawberry ha fallado por un pie! -gritó Joe Castiglione&dos pies -le corrigió Troop&strawberry menea la cabeza como disgustado… -agrega el comentarista\""
   ]
  },
  {
   "cell_type": "code",
   "execution_count": 5,
   "id": "775e6fc8",
   "metadata": {},
   "outputs": [],
   "source": [
    "lineas = texto.split(\"&\")\n",
    "for i, linea in enumerate(lineas):\n",
    "    lineas[i] = lineas[i].replace(lineas[i][0], lineas[i][0].upper(), 1)\n",
    "    if i == 0:\n",
    "        lineas[i] = lineas[i] + \"...\"\n",
    "    else:\n",
    "        lineas[i] = \"- \" + lineas[i] + \".\"\n"
   ]
  },
  {
   "cell_type": "code",
   "execution_count": 6,
   "id": "82ff91ab",
   "metadata": {},
   "outputs": [
    {
     "name": "stdout",
     "output_type": "stream",
     "text": [
      "Gordon lanzó su curva...\n",
      "- Strawberry ha fallado por un pie! -gritó Joe Castiglione.\n",
      "- Dos pies -le corrigió Troop.\n",
      "- Strawberry menea la cabeza como disgustado… -agrega el comentarista.\n"
     ]
    }
   ],
   "source": [
    "print(\"\\n\".join(lineas))"
   ]
  },
  {
   "cell_type": "code",
   "execution_count": 2,
   "id": "d0d02684",
   "metadata": {},
   "outputs": [
    {
     "ename": "TypeError",
     "evalue": "'str' object does not support item assignment",
     "output_type": "error",
     "traceback": [
      "\u001b[1;31m---------------------------------------------------------------------------\u001b[0m",
      "\u001b[1;31mTypeError\u001b[0m                                 Traceback (most recent call last)",
      "\u001b[1;32m~\\AppData\\Local\\Temp/ipykernel_24288/2320465180.py\u001b[0m in \u001b[0;36m<module>\u001b[1;34m\u001b[0m\n\u001b[0;32m      1\u001b[0m \u001b[0ma\u001b[0m \u001b[1;33m=\u001b[0m \u001b[1;34m\"hola mundo\"\u001b[0m\u001b[1;33m\u001b[0m\u001b[1;33m\u001b[0m\u001b[0m\n\u001b[1;32m----> 2\u001b[1;33m \u001b[0ma\u001b[0m\u001b[1;33m[\u001b[0m\u001b[1;36m0\u001b[0m\u001b[1;33m]\u001b[0m \u001b[1;33m=\u001b[0m \u001b[1;34m\"H\"\u001b[0m\u001b[1;33m\u001b[0m\u001b[1;33m\u001b[0m\u001b[0m\n\u001b[0m",
      "\u001b[1;31mTypeError\u001b[0m: 'str' object does not support item assignment"
     ]
    }
   ],
   "source": [
    "a = \"hola mundo\"\n",
    "a[0] = \"H\""
   ]
  },
  {
   "cell_type": "code",
   "execution_count": 3,
   "id": "7f981e6f",
   "metadata": {},
   "outputs": [
    {
     "data": {
      "text/plain": [
       "'Hola mundo'"
      ]
     },
     "execution_count": 3,
     "metadata": {},
     "output_type": "execute_result"
    }
   ],
   "source": [
    "a = \"hola mundo\"\n",
    "a.replace(\"h\", \"H\")"
   ]
  },
  {
   "cell_type": "code",
   "execution_count": 7,
   "id": "d8c8cdb3",
   "metadata": {},
   "outputs": [
    {
     "name": "stdout",
     "output_type": "stream",
     "text": [
      "hola\n",
      "hola\n"
     ]
    }
   ],
   "source": [
    "b = {1: \"hola\", 2: \"mundo\"}\n",
    "print(b[1])\n",
    "print(b.get(1))"
   ]
  },
  {
   "cell_type": "code",
   "execution_count": 8,
   "id": "12e2ca4d",
   "metadata": {},
   "outputs": [
    {
     "name": "stdout",
     "output_type": "stream",
     "text": [
      "None\n"
     ]
    }
   ],
   "source": [
    "print(b.get(3))"
   ]
  },
  {
   "cell_type": "code",
   "execution_count": 9,
   "id": "e224be39",
   "metadata": {},
   "outputs": [
    {
     "ename": "KeyError",
     "evalue": "3",
     "output_type": "error",
     "traceback": [
      "\u001b[1;31m---------------------------------------------------------------------------\u001b[0m",
      "\u001b[1;31mKeyError\u001b[0m                                  Traceback (most recent call last)",
      "\u001b[1;32m~\\AppData\\Local\\Temp/ipykernel_24288/1967822365.py\u001b[0m in \u001b[0;36m<module>\u001b[1;34m\u001b[0m\n\u001b[1;32m----> 1\u001b[1;33m \u001b[0mprint\u001b[0m\u001b[1;33m(\u001b[0m\u001b[0mb\u001b[0m\u001b[1;33m[\u001b[0m\u001b[1;36m3\u001b[0m\u001b[1;33m]\u001b[0m\u001b[1;33m)\u001b[0m\u001b[1;33m\u001b[0m\u001b[1;33m\u001b[0m\u001b[0m\n\u001b[0m",
      "\u001b[1;31mKeyError\u001b[0m: 3"
     ]
    }
   ],
   "source": [
    "print(b[3])"
   ]
  },
  {
   "cell_type": "code",
   "execution_count": 10,
   "id": "ff98c5a6",
   "metadata": {},
   "outputs": [
    {
     "name": "stdout",
     "output_type": "stream",
     "text": [
      "\n"
     ]
    }
   ],
   "source": [
    "print(b.get(3, \"\"))"
   ]
  },
  {
   "cell_type": "code",
   "execution_count": 11,
   "id": "19b2a8b1",
   "metadata": {},
   "outputs": [
    {
     "name": "stdout",
     "output_type": "stream",
     "text": [
      "False\n"
     ]
    }
   ],
   "source": [
    "print(b.get(3, False))"
   ]
  },
  {
   "cell_type": "code",
   "execution_count": 12,
   "id": "9c127146",
   "metadata": {},
   "outputs": [
    {
     "name": "stdout",
     "output_type": "stream",
     "text": [
      "hola\n"
     ]
    }
   ],
   "source": [
    "print(b.get(1, False))"
   ]
  },
  {
   "cell_type": "code",
   "execution_count": 13,
   "id": "b0c82c24",
   "metadata": {},
   "outputs": [],
   "source": [
    "l = [29, -5, -12, 17, 5, 24, 5, 12, 23, 16, 12, 5, -12, 17]"
   ]
  },
  {
   "cell_type": "code",
   "execution_count": 14,
   "id": "ef195224",
   "metadata": {},
   "outputs": [
    {
     "name": "stdout",
     "output_type": "stream",
     "text": [
      "[29, -5, -12, 17, 5, 24, 5, 12, 23, 16, 12, 5, -12, 17]\n"
     ]
    }
   ],
   "source": [
    "l2 = l.copy()\n",
    "print(l2)"
   ]
  },
  {
   "cell_type": "code",
   "execution_count": 15,
   "id": "881312d6",
   "metadata": {},
   "outputs": [
    {
     "name": "stdout",
     "output_type": "stream",
     "text": [
      "[29, -5, -12, 17, 5, 24, 12, 23, 16]\n"
     ]
    }
   ],
   "source": [
    "l3 = []\n",
    "for element in l2:\n",
    "    if element not in l3:\n",
    "        l3.append(element)\n",
    "l2 = l3\n",
    "print(l2)"
   ]
  },
  {
   "cell_type": "code",
   "execution_count": 16,
   "id": "974a2e13",
   "metadata": {},
   "outputs": [
    {
     "name": "stdout",
     "output_type": "stream",
     "text": [
      "[29, 24, 23, 17, 16, 12, 5, -5, -12]\n"
     ]
    }
   ],
   "source": [
    "l2.sort(reverse=True)\n",
    "print(l2)"
   ]
  },
  {
   "cell_type": "code",
   "execution_count": 17,
   "id": "6cb24ab4",
   "metadata": {},
   "outputs": [
    {
     "name": "stdout",
     "output_type": "stream",
     "text": [
      "[24, 16, 12, -12]\n"
     ]
    }
   ],
   "source": [
    "l2 = [element for element in l2 if element % 2 == 0]\n",
    "print(l2)"
   ]
  },
  {
   "cell_type": "code",
   "execution_count": 18,
   "id": "82c932d8",
   "metadata": {},
   "outputs": [],
   "source": [
    "suma = sum(l2)"
   ]
  },
  {
   "cell_type": "code",
   "execution_count": 21,
   "id": "6c45428b",
   "metadata": {},
   "outputs": [],
   "source": [
    "l2.insert(0, suma)"
   ]
  },
  {
   "cell_type": "code",
   "execution_count": 22,
   "id": "670cb3dc",
   "metadata": {},
   "outputs": [
    {
     "name": "stdout",
     "output_type": "stream",
     "text": [
      "[40, 24, 16, 12, -12, 0]\n"
     ]
    }
   ],
   "source": [
    "print(l2)"
   ]
  },
  {
   "cell_type": "code",
   "execution_count": 25,
   "id": "7606b3fb",
   "metadata": {},
   "outputs": [
    {
     "data": {
      "text/plain": [
       "True"
      ]
     },
     "execution_count": 25,
     "metadata": {},
     "output_type": "execute_result"
    }
   ],
   "source": [
    "sum(l2[1:]) == l2[0]"
   ]
  },
  {
   "cell_type": "code",
   "execution_count": null,
   "id": "ecc67c48",
   "metadata": {},
   "outputs": [],
   "source": []
  }
 ],
 "metadata": {
  "kernelspec": {
   "display_name": "Python 3 (ipykernel)",
   "language": "python",
   "name": "python3"
  },
  "language_info": {
   "codemirror_mode": {
    "name": "ipython",
    "version": 3
   },
   "file_extension": ".py",
   "mimetype": "text/x-python",
   "name": "python",
   "nbconvert_exporter": "python",
   "pygments_lexer": "ipython3",
   "version": "3.9.9"
  }
 },
 "nbformat": 4,
 "nbformat_minor": 5
}
