{
 "cells": [
  {
   "cell_type": "code",
   "execution_count": 5,
   "id": "e37088cc",
   "metadata": {},
   "outputs": [],
   "source": [
    "edad = 50"
   ]
  },
  {
   "cell_type": "code",
   "execution_count": 11,
   "id": "0c698543",
   "metadata": {},
   "outputs": [
    {
     "data": {
      "text/plain": [
       "15"
      ]
     },
     "execution_count": 11,
     "metadata": {},
     "output_type": "execute_result"
    }
   ],
   "source": [
    "edad"
   ]
  },
  {
   "cell_type": "code",
   "execution_count": 9,
   "id": "1ed22209",
   "metadata": {},
   "outputs": [],
   "source": [
    "edad = 15"
   ]
  },
  {
   "cell_type": "code",
   "execution_count": 10,
   "id": "56f2557c",
   "metadata": {},
   "outputs": [
    {
     "name": "stdout",
     "output_type": "stream",
     "text": [
      "Eres menor de edad.\n"
     ]
    }
   ],
   "source": [
    "if edad >= 18:\n",
    "    print(\"Eres mayor de edad.\")\n",
    "else:\n",
    "    print(\"Eres menor de edad.\")"
   ]
  },
  {
   "cell_type": "code",
   "execution_count": null,
   "id": "e15f265c",
   "metadata": {},
   "outputs": [],
   "source": []
  }
 ],
 "metadata": {
  "kernelspec": {
   "display_name": "Python 3 (ipykernel)",
   "language": "python",
   "name": "python3"
  },
  "language_info": {
   "codemirror_mode": {
    "name": "ipython",
    "version": 3
   },
   "file_extension": ".py",
   "mimetype": "text/x-python",
   "name": "python",
   "nbconvert_exporter": "python",
   "pygments_lexer": "ipython3",
   "version": "3.9.9"
  }
 },
 "nbformat": 4,
 "nbformat_minor": 5
}
