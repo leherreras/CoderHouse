{
 "cells": [
  {
   "cell_type": "code",
   "execution_count": 3,
   "id": "39d2509d",
   "metadata": {},
   "outputs": [
    {
     "name": "stdout",
     "output_type": "stream",
     "text": [
      "Escribe SI: no\n",
      "Escribe SI: SI\n",
      "Ok, lo conseguiste en el intento 2\n"
     ]
    }
   ],
   "source": [
    "chance = 1\n",
    "while chance <= 3:\n",
    "    txt = input(\"Escribe SI: \")\n",
    "    if txt == \"SI\":\n",
    "        print(\"Ok, lo conseguiste en el intento\", chance)\n",
    "        break\n",
    "    chance += 1\n",
    "else:\n",
    "    print(\"Has agotado tus tres intentos\")"
   ]
  },
  {
   "cell_type": "code",
   "execution_count": 7,
   "id": "23950df3",
   "metadata": {},
   "outputs": [
    {
     "name": "stdout",
     "output_type": "stream",
     "text": [
      "ingrese un numero1\n",
      "ingrese un numero2\n",
      "ingrese un numero3\n",
      "ingrese un numero0\n",
      "ya ingresaste el valor 0, la suma es: \n",
      "6\n"
     ]
    }
   ],
   "source": [
    "valor = int(input(\"ingrese un numero\"))\n",
    "sum_arr = []\n",
    "sum_total = 0\n",
    "while valor != 0:\n",
    "    sum_arr.append(valor)\n",
    "    valor = int(input(\"ingrese un numero\"))\n",
    "else:\n",
    "    # TODO se necesita validad algo adicional\n",
    "    print(\"ya ingresaste el valor 0, la suma es: \")\n",
    "sum_total = sum(sum_arr)\n",
    "print(sum_total)\n"
   ]
  },
  {
   "cell_type": "code",
   "execution_count": 16,
   "id": "9a8bdb7f",
   "metadata": {},
   "outputs": [
    {
     "name": "stdout",
     "output_type": "stream",
     "text": [
      "[0, 5, 10, 15, 20, 25, 30, 35, 40, 45, 50]\n"
     ]
    }
   ],
   "source": [
    "numeros = [0,1,2,3,4,5,6,7,8,9,10]\n",
    "for indx, _* in enumerate(numeros):\n",
    "    numeros[indx] *= 5\n",
    "print(numeros)"
   ]
  },
  {
   "cell_type": "code",
   "execution_count": 19,
   "id": "33ee1e5c",
   "metadata": {},
   "outputs": [
    {
     "name": "stdout",
     "output_type": "stream",
     "text": [
      "fin de lista\n"
     ]
    }
   ],
   "source": [
    "lista = []\n",
    "for numero in lista:\n",
    "    print(numero)\n",
    "else:\n",
    "    print(\"fin de lista\")\n"
   ]
  },
  {
   "cell_type": "code",
   "execution_count": 21,
   "id": "16281c3f",
   "metadata": {},
   "outputs": [
    {
     "name": "stdout",
     "output_type": "stream",
     "text": [
      "1 .  Canada\n",
      "2 .  USA\n",
      "3 .  Mexico\n",
      "4 .  Australia\n",
      "5 .  Argentina\n",
      "6 .  China\n",
      "7 .  India\n"
     ]
    }
   ],
   "source": [
    "paises = ['Canada', 'USA', 'Mexico', 'Australia', 'Argentina', 'China', 'India']\n",
    "\n",
    "for n, pais in enumerate(paises):\n",
    "    print((n+1), \". \", pais)\n"
   ]
  },
  {
   "cell_type": "code",
   "execution_count": 22,
   "id": "15ff8dc1",
   "metadata": {},
   "outputs": [
    {
     "name": "stdout",
     "output_type": "stream",
     "text": [
      "1 Canada\n",
      "2 USA\n",
      "3 Mexico\n",
      "4 Australia\n",
      "5 Argentina\n",
      "6 China\n",
      "7 India\n"
     ]
    }
   ],
   "source": [
    "paises = [\"Canada\", \"USA\", \"Mexico\", \"Australia\", \"Argentina\", \"China\", \"India\"]\n",
    "for indice, paises in enumerate (paises):\n",
    "    print(indice +1,paises)\n"
   ]
  },
  {
   "cell_type": "code",
   "execution_count": 23,
   "id": "d4987db7",
   "metadata": {},
   "outputs": [
    {
     "name": "stdout",
     "output_type": "stream",
     "text": [
      "2\n"
     ]
    }
   ],
   "source": [
    "var = 2 if True else 3\n",
    "print(var)"
   ]
  },
  {
   "cell_type": "code",
   "execution_count": 24,
   "id": "dda41a6d",
   "metadata": {},
   "outputs": [
    {
     "name": "stdout",
     "output_type": "stream",
     "text": [
      "3\n"
     ]
    }
   ],
   "source": [
    "var = 2 if False else 3\n",
    "print(var)"
   ]
  },
  {
   "cell_type": "code",
   "execution_count": 25,
   "id": "7f76f0db",
   "metadata": {},
   "outputs": [
    {
     "name": "stdout",
     "output_type": "stream",
     "text": [
      "2\n"
     ]
    }
   ],
   "source": [
    "if True:\n",
    "    var = 2\n",
    "else:\n",
    "    var = 3\n",
    "print(var)"
   ]
  },
  {
   "cell_type": "code",
   "execution_count": 26,
   "id": "fa48a6cc",
   "metadata": {},
   "outputs": [
    {
     "name": "stdout",
     "output_type": "stream",
     "text": [
      "2450\n"
     ]
    }
   ],
   "source": [
    "suma = sum([x for x in range(0, 100, 2)])\n",
    "print(suma)"
   ]
  },
  {
   "cell_type": "code",
   "execution_count": 27,
   "id": "b32c5a53",
   "metadata": {},
   "outputs": [
    {
     "name": "stdout",
     "output_type": "stream",
     "text": [
      "La suma de pares es 2450\n"
     ]
    }
   ],
   "source": [
    "num= range(0,100)\n",
    "Total=0\n",
    "for valor in num:\n",
    "    if(valor%2==0):\n",
    "        Total +=valor\n",
    "print(\"La suma de pares es\", Total)\n"
   ]
  },
  {
   "cell_type": "code",
   "execution_count": 28,
   "id": "e113310d",
   "metadata": {},
   "outputs": [
    {
     "name": "stdout",
     "output_type": "stream",
     "text": [
      "La suma de pares es 2450\n"
     ]
    }
   ],
   "source": [
    "num= range(0,100, 2)\n",
    "Total=0\n",
    "for valor in num:\n",
    "    Total +=valor\n",
    "print(\"La suma de pares es\", Total)"
   ]
  },
  {
   "cell_type": "code",
   "execution_count": 30,
   "id": "1ff818c4",
   "metadata": {},
   "outputs": [
    {
     "name": "stdout",
     "output_type": "stream",
     "text": [
      "1683\n"
     ]
    }
   ],
   "source": [
    "a = sum(range(0,100,3))\n",
    "print(a)\n"
   ]
  },
  {
   "cell_type": "code",
   "execution_count": 35,
   "id": "93548cdd",
   "metadata": {},
   "outputs": [
    {
     "name": "stdout",
     "output_type": "stream",
     "text": [
      "10\n",
      "9\n",
      "8\n",
      "7\n",
      "6\n",
      "5\n",
      "4\n",
      "3\n",
      "2\n",
      "1\n"
     ]
    }
   ],
   "source": [
    "lista = [1,2,3,4,5,6,7,8,9,10]\n",
    "for num in range(-1, -11, -1):\n",
    "    print(lista[num])"
   ]
  },
  {
   "cell_type": "code",
   "execution_count": null,
   "id": "a0a98379",
   "metadata": {},
   "outputs": [],
   "source": [
    "numero = int(input(\"ingrese un numero: \"))\n",
    "print(len(numero))"
   ]
  },
  {
   "cell_type": "code",
   "execution_count": 2,
   "id": "9ce947e7",
   "metadata": {},
   "outputs": [
    {
     "name": "stdout",
     "output_type": "stream",
     "text": [
      "ingrese un numero: a\n",
      "no ingreso un numero correcto\n"
     ]
    }
   ],
   "source": [
    "try:\n",
    "    numero = int(input(\"ingrese un numero: \"))\n",
    "    print(len(numero))\n",
    "except:\n",
    "    print(\"no ingreso un numero correcto\")"
   ]
  },
  {
   "cell_type": "code",
   "execution_count": null,
   "id": "d915992b",
   "metadata": {},
   "outputs": [],
   "source": []
  }
 ],
 "metadata": {
  "kernelspec": {
   "display_name": "Python 3 (ipykernel)",
   "language": "python",
   "name": "python3"
  },
  "language_info": {
   "codemirror_mode": {
    "name": "ipython",
    "version": 3
   },
   "file_extension": ".py",
   "mimetype": "text/x-python",
   "name": "python",
   "nbconvert_exporter": "python",
   "pygments_lexer": "ipython3",
   "version": "3.9.9"
  }
 },
 "nbformat": 4,
 "nbformat_minor": 5
}
