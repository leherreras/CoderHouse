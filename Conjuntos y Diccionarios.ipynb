{
 "cells": [
  {
   "cell_type": "code",
   "execution_count": 20,
   "id": "8c95e066",
   "metadata": {},
   "outputs": [],
   "source": [
    "grupo = {\"Miguel\", \"Blanca\", \"Mario\", \"Andrés\"}\n",
    "adi = [\"Ana\", \"Ramón\", \"Marta\", \"Eric\", \"David\"]\n",
    "eli = [\"Mario\", \"Miguel\", \"Esteban\"]"
   ]
  },
  {
   "cell_type": "code",
   "execution_count": 21,
   "id": "9878d7f1",
   "metadata": {},
   "outputs": [],
   "source": [
    "grupo.update(adi)"
   ]
  },
  {
   "cell_type": "code",
   "execution_count": 22,
   "id": "18e8d53d",
   "metadata": {},
   "outputs": [],
   "source": [
    "grupo.difference_update(eli)"
   ]
  },
  {
   "cell_type": "code",
   "execution_count": null,
   "id": "3111e7b2",
   "metadata": {},
   "outputs": [],
   "source": []
  },
  {
   "cell_type": "code",
   "execution_count": 23,
   "id": "fc613d6f",
   "metadata": {},
   "outputs": [
    {
     "data": {
      "text/plain": [
       "{'Ana', 'Andrés', 'Blanca', 'David', 'Eric', 'Marta', 'Ramón'}"
      ]
     },
     "execution_count": 23,
     "metadata": {},
     "output_type": "execute_result"
    }
   ],
   "source": [
    "grupo"
   ]
  },
  {
   "cell_type": "code",
   "execution_count": 8,
   "id": "c7d18305",
   "metadata": {},
   "outputs": [
    {
     "name": "stdout",
     "output_type": "stream",
     "text": [
      "Ramón\n",
      "David\n",
      "Ana\n",
      "Andrés\n",
      "Blanca\n",
      "Marta\n",
      "Eric\n"
     ]
    }
   ],
   "source": [
    "for nombre_final in grupo:\n",
    "    print(nombre_final)\n"
   ]
  },
  {
   "cell_type": "code",
   "execution_count": 19,
   "id": "9e58b2fb",
   "metadata": {},
   "outputs": [
    {
     "name": "stdout",
     "output_type": "stream",
     "text": [
      "ingrese su nombre     PrDrO    JuAn    \n",
      "Prdro    Juan\n"
     ]
    }
   ],
   "source": [
    "a = input(\"ingrese su nombre\")\n",
    "a = a.title().strip()\n",
    "print(a)"
   ]
  },
  {
   "cell_type": "code",
   "execution_count": 25,
   "id": "90726774",
   "metadata": {},
   "outputs": [
    {
     "name": "stdout",
     "output_type": "stream",
     "text": [
      "{'uno': 1, 'dos': 2, 'tres': 3, 'cuatro': 4, 'cinco': 5, 'seis': 6}\n"
     ]
    }
   ],
   "source": [
    "numeros = {\"uno\": 1, \"dos\": 2, \"tres\": 3, \"cuatro\": 4}\n",
    "mas_num = ((\"cinco\", 5), (\"seis\", 6))\n",
    "numeros.update(mas_num)\n",
    "print(numeros)"
   ]
  },
  {
   "cell_type": "code",
   "execution_count": 1,
   "id": "592341bd",
   "metadata": {},
   "outputs": [],
   "source": [
    "animales = {\"elefante\": \"\", \"delfin\": \"\"}\n",
    "adi = {\"perro\": \"dog\", \"tigre\": \"tiger\", \"mono\": \"monkey\"}\n",
    "modi = {\"elefante\": \"elephant\", \"delfin\": \"dolphin\"}\n",
    "eli = [\"dolphin\", \"cat\"]"
   ]
  },
  {
   "cell_type": "code",
   "execution_count": 3,
   "id": "6e033ef3",
   "metadata": {},
   "outputs": [
    {
     "name": "stdout",
     "output_type": "stream",
     "text": [
      "{'elefante': '', 'delfin': '', 'perro': 'dog', 'tigre': 'tiger', 'mono': 'monkey'}\n"
     ]
    }
   ],
   "source": [
    "animales.update(adi)\n",
    "print(animales)"
   ]
  },
  {
   "cell_type": "code",
   "execution_count": 41,
   "id": "7fd90b0b",
   "metadata": {},
   "outputs": [
    {
     "name": "stdout",
     "output_type": "stream",
     "text": [
      "{'elefante': 'elephant', 'delfin': 'dolphin', 'perro': 'dog', 'tigre': 'tiger', 'mono': 'monkey'}\n"
     ]
    }
   ],
   "source": [
    "animales.update(modi)\n",
    "print(animales)"
   ]
  },
  {
   "cell_type": "code",
   "execution_count": 37,
   "id": "cc65a4cb",
   "metadata": {},
   "outputs": [
    {
     "name": "stdout",
     "output_type": "stream",
     "text": [
      "{'elefante': 'elephant', 'delfin': 'dolphin', 'perro': 'dog', 'tigre': 'tiger', 'mono': 'monkey'}\n"
     ]
    }
   ],
   "source": [
    "for key, valor in modi.items():\n",
    "    animales[key] = valor\n",
    "print(animales)"
   ]
  },
  {
   "cell_type": "code",
   "execution_count": 29,
   "id": "ae8dcb83",
   "metadata": {},
   "outputs": [
    {
     "data": {
      "text/plain": [
       "''"
      ]
     },
     "execution_count": 29,
     "metadata": {},
     "output_type": "execute_result"
    }
   ],
   "source": [
    "animales.pop(\"delfin\")\n"
   ]
  },
  {
   "cell_type": "code",
   "execution_count": 33,
   "id": "181c86e5",
   "metadata": {},
   "outputs": [
    {
     "name": "stdout",
     "output_type": "stream",
     "text": [
      "no elimino nungun valor\n"
     ]
    }
   ],
   "source": [
    "print(animales.pop(\"cat\", \"no elimino nungun valor\"))"
   ]
  },
  {
   "cell_type": "code",
   "execution_count": 4,
   "id": "1d26bcf4",
   "metadata": {},
   "outputs": [
    {
     "name": "stdout",
     "output_type": "stream",
     "text": [
      "{'elefante': '', 'delfin': '', 'perro': 'dog', 'tigre': 'tiger', 'mono': 'monkey'}\n"
     ]
    }
   ],
   "source": [
    "print(animales)"
   ]
  },
  {
   "cell_type": "code",
   "execution_count": 6,
   "id": "8aa0f5ab",
   "metadata": {},
   "outputs": [
    {
     "ename": "KeyError",
     "evalue": "'perro'",
     "output_type": "error",
     "traceback": [
      "\u001b[1;31m---------------------------------------------------------------------------\u001b[0m",
      "\u001b[1;31mKeyError\u001b[0m                                  Traceback (most recent call last)",
      "\u001b[1;32m~\\AppData\\Local\\Temp/ipykernel_576/3179335035.py\u001b[0m in \u001b[0;36m<module>\u001b[1;34m\u001b[0m\n\u001b[1;32m----> 1\u001b[1;33m \u001b[1;32mdel\u001b[0m \u001b[0manimales\u001b[0m\u001b[1;33m[\u001b[0m\u001b[1;34m\"perro\"\u001b[0m\u001b[1;33m]\u001b[0m\u001b[1;33m\u001b[0m\u001b[1;33m\u001b[0m\u001b[0m\n\u001b[0m",
      "\u001b[1;31mKeyError\u001b[0m: 'perro'"
     ]
    }
   ],
   "source": [
    "del animales[\"perro\"]"
   ]
  },
  {
   "cell_type": "code",
   "execution_count": null,
   "id": "c4507e66",
   "metadata": {},
   "outputs": [],
   "source": []
  }
 ],
 "metadata": {
  "kernelspec": {
   "display_name": "Python 3 (ipykernel)",
   "language": "python",
   "name": "python3"
  },
  "language_info": {
   "codemirror_mode": {
    "name": "ipython",
    "version": 3
   },
   "file_extension": ".py",
   "mimetype": "text/x-python",
   "name": "python",
   "nbconvert_exporter": "python",
   "pygments_lexer": "ipython3",
   "version": "3.9.9"
  }
 },
 "nbformat": 4,
 "nbformat_minor": 5
}
